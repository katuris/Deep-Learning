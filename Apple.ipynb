{
  "nbformat": 4,
  "nbformat_minor": 0,
  "metadata": {
    "colab": {
      "name": "Apple.ipynb",
      "provenance": []
    },
    "kernelspec": {
      "name": "python3",
      "display_name": "Python 3"
    }
  },
  "cells": [
    {
      "cell_type": "code",
      "metadata": {
        "id": "s0HAacqCRv5a"
      },
      "source": [
        "import numpy as np\n",
        "import matplotlib.pyplot as plt\n",
        "import pandas as pd\n",
        "from sklearn.preprocessing import MinMaxScaler\n",
        "import math\n",
        "import pandas_datareader as web\n",
        "from tensorflow.keras import Sequential\n",
        "from tensorflow.keras.layers import Dense, LSTM, Dropout"
      ],
      "execution_count": null,
      "outputs": []
    },
    {
      "cell_type": "code",
      "metadata": {
        "id": "hCXVirCdMV1r",
        "colab": {
          "base_uri": "https://localhost:8080/"
        },
        "outputId": "8a004127-5678-4227-d03e-19be95eb858e"
      },
      "source": [
        "from google.colab import drive\n",
        "drive.mount('/content/drive')"
      ],
      "execution_count": null,
      "outputs": [
        {
          "output_type": "stream",
          "text": [
            "Mounted at /content/drive\n"
          ],
          "name": "stdout"
        }
      ]
    },
    {
      "cell_type": "code",
      "metadata": {
        "id": "dlfjQfDdMWFZ",
        "colab": {
          "base_uri": "https://localhost:8080/"
        },
        "outputId": "7ab977bc-f9fc-4071-ed58-a78a2a0b0c1d"
      },
      "source": [
        "%cd \"/content/drive/My Drive/Linkkt Algo Economics Financial Risk Hybrid Team/Warren Buffet/Holdings Data\""
      ],
      "execution_count": null,
      "outputs": [
        {
          "output_type": "stream",
          "text": [
            "/content/drive/.shortcut-targets-by-id/1WzAzm95MVXB_iKsNHMU3ozAPEnyaEEvL/Linkkt Algo Economics Financial Risk Hybrid Team/Warren Buffet/Holdings Data\n"
          ],
          "name": "stdout"
        }
      ]
    },
    {
      "cell_type": "code",
      "metadata": {
        "id": "sg32O9uqSjkG",
        "colab": {
          "base_uri": "https://localhost:8080/",
          "height": 204
        },
        "outputId": "0e6868be-aa6a-4d37-eef9-853520558cec"
      },
      "source": [
        "df = pd.read_csv('AAL.csv')\n",
        "df.head()"
      ],
      "execution_count": null,
      "outputs": [
        {
          "output_type": "execute_result",
          "data": {
            "text/html": [
              "<div>\n",
              "<style scoped>\n",
              "    .dataframe tbody tr th:only-of-type {\n",
              "        vertical-align: middle;\n",
              "    }\n",
              "\n",
              "    .dataframe tbody tr th {\n",
              "        vertical-align: top;\n",
              "    }\n",
              "\n",
              "    .dataframe thead th {\n",
              "        text-align: right;\n",
              "    }\n",
              "</style>\n",
              "<table border=\"1\" class=\"dataframe\">\n",
              "  <thead>\n",
              "    <tr style=\"text-align: right;\">\n",
              "      <th></th>\n",
              "      <th>Date</th>\n",
              "      <th>Open</th>\n",
              "      <th>High</th>\n",
              "      <th>Low</th>\n",
              "      <th>Close</th>\n",
              "      <th>Adj Close</th>\n",
              "      <th>Volume</th>\n",
              "    </tr>\n",
              "  </thead>\n",
              "  <tbody>\n",
              "    <tr>\n",
              "      <th>0</th>\n",
              "      <td>2005-09-27</td>\n",
              "      <td>21.049999</td>\n",
              "      <td>21.400000</td>\n",
              "      <td>19.100000</td>\n",
              "      <td>19.299999</td>\n",
              "      <td>18.194910</td>\n",
              "      <td>961200</td>\n",
              "    </tr>\n",
              "    <tr>\n",
              "      <th>1</th>\n",
              "      <td>2005-09-28</td>\n",
              "      <td>19.299999</td>\n",
              "      <td>20.530001</td>\n",
              "      <td>19.200001</td>\n",
              "      <td>20.500000</td>\n",
              "      <td>19.326199</td>\n",
              "      <td>5747900</td>\n",
              "    </tr>\n",
              "    <tr>\n",
              "      <th>2</th>\n",
              "      <td>2005-09-29</td>\n",
              "      <td>20.400000</td>\n",
              "      <td>20.580000</td>\n",
              "      <td>20.100000</td>\n",
              "      <td>20.209999</td>\n",
              "      <td>19.052801</td>\n",
              "      <td>1078200</td>\n",
              "    </tr>\n",
              "    <tr>\n",
              "      <th>3</th>\n",
              "      <td>2005-09-30</td>\n",
              "      <td>20.260000</td>\n",
              "      <td>21.049999</td>\n",
              "      <td>20.180000</td>\n",
              "      <td>21.010000</td>\n",
              "      <td>19.806999</td>\n",
              "      <td>3123300</td>\n",
              "    </tr>\n",
              "    <tr>\n",
              "      <th>4</th>\n",
              "      <td>2005-10-03</td>\n",
              "      <td>20.900000</td>\n",
              "      <td>21.750000</td>\n",
              "      <td>20.900000</td>\n",
              "      <td>21.500000</td>\n",
              "      <td>20.268938</td>\n",
              "      <td>1057900</td>\n",
              "    </tr>\n",
              "  </tbody>\n",
              "</table>\n",
              "</div>"
            ],
            "text/plain": [
              "         Date       Open       High        Low      Close  Adj Close   Volume\n",
              "0  2005-09-27  21.049999  21.400000  19.100000  19.299999  18.194910   961200\n",
              "1  2005-09-28  19.299999  20.530001  19.200001  20.500000  19.326199  5747900\n",
              "2  2005-09-29  20.400000  20.580000  20.100000  20.209999  19.052801  1078200\n",
              "3  2005-09-30  20.260000  21.049999  20.180000  21.010000  19.806999  3123300\n",
              "4  2005-10-03  20.900000  21.750000  20.900000  21.500000  20.268938  1057900"
            ]
          },
          "metadata": {
            "tags": []
          },
          "execution_count": 4
        }
      ]
    },
    {
      "cell_type": "code",
      "metadata": {
        "id": "4hvNK7n3TFq0",
        "colab": {
          "base_uri": "https://localhost:8080/"
        },
        "outputId": "18cd7237-5161-4ae3-dd06-a900411b5ad0"
      },
      "source": [
        "df.shape"
      ],
      "execution_count": null,
      "outputs": [
        {
          "output_type": "execute_result",
          "data": {
            "text/plain": [
              "(3740, 7)"
            ]
          },
          "metadata": {
            "tags": []
          },
          "execution_count": 5
        }
      ]
    },
    {
      "cell_type": "code",
      "metadata": {
        "id": "uWQrsqzPT0Bi",
        "colab": {
          "base_uri": "https://localhost:8080/",
          "height": 419
        },
        "outputId": "909db680-1e18-4a66-e06f-55b10795922f"
      },
      "source": [
        "df.isna()"
      ],
      "execution_count": null,
      "outputs": [
        {
          "output_type": "execute_result",
          "data": {
            "text/html": [
              "<div>\n",
              "<style scoped>\n",
              "    .dataframe tbody tr th:only-of-type {\n",
              "        vertical-align: middle;\n",
              "    }\n",
              "\n",
              "    .dataframe tbody tr th {\n",
              "        vertical-align: top;\n",
              "    }\n",
              "\n",
              "    .dataframe thead th {\n",
              "        text-align: right;\n",
              "    }\n",
              "</style>\n",
              "<table border=\"1\" class=\"dataframe\">\n",
              "  <thead>\n",
              "    <tr style=\"text-align: right;\">\n",
              "      <th></th>\n",
              "      <th>Date</th>\n",
              "      <th>Open</th>\n",
              "      <th>High</th>\n",
              "      <th>Low</th>\n",
              "      <th>Close</th>\n",
              "      <th>Adj Close</th>\n",
              "      <th>Volume</th>\n",
              "    </tr>\n",
              "  </thead>\n",
              "  <tbody>\n",
              "    <tr>\n",
              "      <th>0</th>\n",
              "      <td>False</td>\n",
              "      <td>False</td>\n",
              "      <td>False</td>\n",
              "      <td>False</td>\n",
              "      <td>False</td>\n",
              "      <td>False</td>\n",
              "      <td>False</td>\n",
              "    </tr>\n",
              "    <tr>\n",
              "      <th>1</th>\n",
              "      <td>False</td>\n",
              "      <td>False</td>\n",
              "      <td>False</td>\n",
              "      <td>False</td>\n",
              "      <td>False</td>\n",
              "      <td>False</td>\n",
              "      <td>False</td>\n",
              "    </tr>\n",
              "    <tr>\n",
              "      <th>2</th>\n",
              "      <td>False</td>\n",
              "      <td>False</td>\n",
              "      <td>False</td>\n",
              "      <td>False</td>\n",
              "      <td>False</td>\n",
              "      <td>False</td>\n",
              "      <td>False</td>\n",
              "    </tr>\n",
              "    <tr>\n",
              "      <th>3</th>\n",
              "      <td>False</td>\n",
              "      <td>False</td>\n",
              "      <td>False</td>\n",
              "      <td>False</td>\n",
              "      <td>False</td>\n",
              "      <td>False</td>\n",
              "      <td>False</td>\n",
              "    </tr>\n",
              "    <tr>\n",
              "      <th>4</th>\n",
              "      <td>False</td>\n",
              "      <td>False</td>\n",
              "      <td>False</td>\n",
              "      <td>False</td>\n",
              "      <td>False</td>\n",
              "      <td>False</td>\n",
              "      <td>False</td>\n",
              "    </tr>\n",
              "    <tr>\n",
              "      <th>...</th>\n",
              "      <td>...</td>\n",
              "      <td>...</td>\n",
              "      <td>...</td>\n",
              "      <td>...</td>\n",
              "      <td>...</td>\n",
              "      <td>...</td>\n",
              "      <td>...</td>\n",
              "    </tr>\n",
              "    <tr>\n",
              "      <th>3735</th>\n",
              "      <td>False</td>\n",
              "      <td>False</td>\n",
              "      <td>False</td>\n",
              "      <td>False</td>\n",
              "      <td>False</td>\n",
              "      <td>False</td>\n",
              "      <td>False</td>\n",
              "    </tr>\n",
              "    <tr>\n",
              "      <th>3736</th>\n",
              "      <td>False</td>\n",
              "      <td>False</td>\n",
              "      <td>False</td>\n",
              "      <td>False</td>\n",
              "      <td>False</td>\n",
              "      <td>False</td>\n",
              "      <td>False</td>\n",
              "    </tr>\n",
              "    <tr>\n",
              "      <th>3737</th>\n",
              "      <td>False</td>\n",
              "      <td>False</td>\n",
              "      <td>False</td>\n",
              "      <td>False</td>\n",
              "      <td>False</td>\n",
              "      <td>False</td>\n",
              "      <td>False</td>\n",
              "    </tr>\n",
              "    <tr>\n",
              "      <th>3738</th>\n",
              "      <td>False</td>\n",
              "      <td>False</td>\n",
              "      <td>False</td>\n",
              "      <td>False</td>\n",
              "      <td>False</td>\n",
              "      <td>False</td>\n",
              "      <td>False</td>\n",
              "    </tr>\n",
              "    <tr>\n",
              "      <th>3739</th>\n",
              "      <td>False</td>\n",
              "      <td>False</td>\n",
              "      <td>False</td>\n",
              "      <td>False</td>\n",
              "      <td>False</td>\n",
              "      <td>False</td>\n",
              "      <td>False</td>\n",
              "    </tr>\n",
              "  </tbody>\n",
              "</table>\n",
              "<p>3740 rows × 7 columns</p>\n",
              "</div>"
            ],
            "text/plain": [
              "       Date   Open   High    Low  Close  Adj Close  Volume\n",
              "0     False  False  False  False  False      False   False\n",
              "1     False  False  False  False  False      False   False\n",
              "2     False  False  False  False  False      False   False\n",
              "3     False  False  False  False  False      False   False\n",
              "4     False  False  False  False  False      False   False\n",
              "...     ...    ...    ...    ...    ...        ...     ...\n",
              "3735  False  False  False  False  False      False   False\n",
              "3736  False  False  False  False  False      False   False\n",
              "3737  False  False  False  False  False      False   False\n",
              "3738  False  False  False  False  False      False   False\n",
              "3739  False  False  False  False  False      False   False\n",
              "\n",
              "[3740 rows x 7 columns]"
            ]
          },
          "metadata": {
            "tags": []
          },
          "execution_count": 6
        }
      ]
    },
    {
      "cell_type": "code",
      "metadata": {
        "id": "rUf9fu0xTzQc"
      },
      "source": [
        ""
      ],
      "execution_count": null,
      "outputs": []
    },
    {
      "cell_type": "code",
      "metadata": {
        "id": "uZNfvQKnTRuk",
        "colab": {
          "base_uri": "https://localhost:8080/",
          "height": 538
        },
        "outputId": "b70476ee-ffab-4ff0-cdd5-fdc265efbe85"
      },
      "source": [
        "plt.figure(figsize=(16,8))\n",
        "plt.title('closePriceHistory')\n",
        "plt.plot(df['Close'])\n",
        "plt.xlabel('Date',fontsize=18)\n",
        "plt.ylabel('close',fontsize=18)\n",
        "\n"
      ],
      "execution_count": null,
      "outputs": [
        {
          "output_type": "execute_result",
          "data": {
            "text/plain": [
              "Text(0, 0.5, 'close')"
            ]
          },
          "metadata": {
            "tags": []
          },
          "execution_count": 7
        },
        {
          "output_type": "display_data",
          "data": {
            "image/png": "[encoded data removed]",
            "text/plain": [
              "<Figure size 1152x576 with 1 Axes>"
            ]
          },
          "metadata": {
            "tags": [],
            "needs_background": "light"
          }
        }
      ]
    },
    {
      "cell_type": "code",
      "metadata": {
        "id": "XWxd56KZT9R_"
      },
      "source": [
        "data = df.filter(['Close'])"
      ],
      "execution_count": null,
      "outputs": []
    },
    {
      "cell_type": "code",
      "metadata": {
        "id": "w3NUObZHUiOF",
        "colab": {
          "base_uri": "https://localhost:8080/"
        },
        "outputId": "45d5eac5-b4ff-448a-c8ec-d09b7582027c"
      },
      "source": [
        "dataset=data.values\n",
        "training_data_len = math.ceil(len(dataset) * .8)\n",
        "training_data_len"
      ],
      "execution_count": null,
      "outputs": [
        {
          "output_type": "execute_result",
          "data": {
            "text/plain": [
              "2992"
            ]
          },
          "metadata": {
            "tags": []
          },
          "execution_count": 9
        }
      ]
    },
    {
      "cell_type": "code",
      "metadata": {
        "id": "r6lQijQ-U-cL"
      },
      "source": [
        "scaler=MinMaxScaler(feature_range=(0,1))\n",
        "scaled_data = scaler.fit_transform(dataset)"
      ],
      "execution_count": null,
      "outputs": []
    },
    {
      "cell_type": "code",
      "metadata": {
        "id": "UZtwUy9hVNfJ",
        "colab": {
          "base_uri": "https://localhost:8080/"
        },
        "outputId": "d2b6e5e5-1719-45ba-c8a3-70db3a4aa233"
      },
      "source": [
        "scaled_data"
      ],
      "execution_count": null,
      "outputs": [
        {
          "output_type": "execute_result",
          "data": {
            "text/plain": [
              "array([[0.28664812],\n",
              "       [0.30625919],\n",
              "       [0.30151983],\n",
              "       ...,\n",
              "       [0.15231247],\n",
              "       [0.15868606],\n",
              "       [0.17649943]])"
            ]
          },
          "metadata": {
            "tags": []
          },
          "execution_count": 11
        }
      ]
    },
    {
      "cell_type": "code",
      "metadata": {
        "id": "eD1drdO1VQ5i",
        "colab": {
          "base_uri": "https://localhost:8080/"
        },
        "outputId": "e1f74c4b-5c03-468c-db5c-fcec97f97295"
      },
      "source": [
        "train_data = scaled_data[0:training_data_len,:]\n",
        "x_train =[]\n",
        "y_train =[]\n",
        "for i in range(60,len(train_data)):\n",
        "  x_train.append(train_data[i-60:i,0])\n",
        "  y_train.append(train_data[i,0])\n",
        "  if i<=60:\n",
        "    print(x_train)\n",
        "    print(y_train)\n",
        "    print()"
      ],
      "execution_count": null,
      "outputs": [
        {
          "output_type": "stream",
          "text": [
            "[array([0.28664812, 0.30625919, 0.30151983, 0.31459388, 0.32260173,\n",
            "       0.3333878 , 0.33404152, 0.34025167, 0.33322438, 0.33420491,\n",
            "       0.33044615, 0.32685079, 0.32603364, 0.33518548, 0.3320804 ,\n",
            "       0.3224383 , 0.32064061, 0.31475731, 0.33011928, 0.33583917,\n",
            "       0.330773  , 0.33600261, 0.3399248 , 0.36182382, 0.374571  ,\n",
            "       0.38012747, 0.42147407, 0.42670372, 0.44190225, 0.44402679,\n",
            "       0.45219806, 0.4827586 , 0.50727241, 0.51626079, 0.52279783,\n",
            "       0.52492238, 0.52034642, 0.53211308, 0.51135804, 0.49403496,\n",
            "       0.50236966, 0.51119465, 0.50808952, 0.51724137, 0.50890671,\n",
            "       0.52018303, 0.53145936, 0.53145936, 0.49991825, 0.52067329,\n",
            "       0.52606636, 0.52132701, 0.52492238, 0.52296123, 0.51462656,\n",
            "       0.51936592, 0.52083675, 0.54567742, 0.54731164, 0.54845562])]\n",
            "[0.5679032101993264]\n",
            "\n"
          ],
          "name": "stdout"
        }
      ]
    },
    {
      "cell_type": "code",
      "metadata": {
        "id": "tfrQLC3FV5ws"
      },
      "source": [
        "x_train,y_train = np.array(x_train),np.array(y_train)\n"
      ],
      "execution_count": null,
      "outputs": []
    },
    {
      "cell_type": "code",
      "metadata": {
        "id": "ckC0IbeAWVVX",
        "colab": {
          "base_uri": "https://localhost:8080/"
        },
        "outputId": "871d3336-441d-4a6a-beca-e5b80b421ea5"
      },
      "source": [
        "x_train= np.reshape(x_train,(x_train.shape[0],x_train.shape[1],1))\n",
        "x_train.shape"
      ],
      "execution_count": null,
      "outputs": [
        {
          "output_type": "execute_result",
          "data": {
            "text/plain": [
              "(2932, 60, 1)"
            ]
          },
          "metadata": {
            "tags": []
          },
          "execution_count": 14
        }
      ]
    },
    {
      "cell_type": "code",
      "metadata": {
        "id": "cfnk6DOzWaBR"
      },
      "source": [
        "model = Sequential()\n",
        "\n",
        "model.add(LSTM(units = 50, return_sequences = True, input_shape = (x_train.shape[1], 1)))\n",
        "model.add(Dropout(0.2))\n",
        "\n",
        "#model.add(LSTM(units = 50 , return_sequences = False))\n",
        "#model.add(Dropout(0.2))\n",
        "model.add(Dense(250))\n",
        "model.add(Dense(units = 1))"
      ],
      "execution_count": null,
      "outputs": []
    },
    {
      "cell_type": "code",
      "metadata": {
        "id": "eB-FosW3XVkM"
      },
      "source": [
        "model.compile(optimizer='adam',loss = 'mean_squared_error')"
      ],
      "execution_count": null,
      "outputs": []
    },
    {
      "cell_type": "code",
      "metadata": {
        "id": "w6__Vv5CXoWq",
        "colab": {
          "base_uri": "https://localhost:8080/"
        },
        "outputId": "eb406567-796c-4fb2-bb6d-c53c50ead0c4"
      },
      "source": [
        "model.fit(x_train,y_train,batch_size=32,epochs=100)"
      ],
      "execution_count": null,
      "outputs": [
        {
          "output_type": "stream",
          "text": [
            "Epoch 1/100\n",
            "92/92 [==============================] - 3s 31ms/step - loss: 0.0180\n",
            "Epoch 2/100\n",
            "92/92 [==============================] - 3s 31ms/step - loss: 0.0078\n",
            "Epoch 3/100\n",
            "92/92 [==============================] - 3s 31ms/step - loss: 0.0069\n",
            "Epoch 4/100\n",
            "92/92 [==============================] - 3s 32ms/step - loss: 0.0065\n",
            "Epoch 5/100\n",
            "92/92 [==============================] - 3s 32ms/step - loss: 0.0063\n",
            "Epoch 6/100\n",
            "92/92 [==============================] - 3s 31ms/step - loss: 0.0065\n",
            "Epoch 7/100\n",
            "92/92 [==============================] - 3s 32ms/step - loss: 0.0061\n",
            "Epoch 8/100\n",
            "92/92 [==============================] - 3s 31ms/step - loss: 0.0060\n",
            "Epoch 9/100\n",
            "92/92 [==============================] - 3s 32ms/step - loss: 0.0059\n",
            "Epoch 10/100\n",
            "92/92 [==============================] - 3s 32ms/step - loss: 0.0058\n",
            "Epoch 11/100\n",
            "92/92 [==============================] - 3s 32ms/step - loss: 0.0059\n",
            "Epoch 12/100\n",
            "92/92 [==============================] - 3s 32ms/step - loss: 0.0058\n",
            "Epoch 13/100\n",
            "92/92 [==============================] - 3s 32ms/step - loss: 0.0058\n",
            "Epoch 14/100\n",
            "92/92 [==============================] - 3s 34ms/step - loss: 0.0060\n",
            "Epoch 15/100\n",
            "92/92 [==============================] - 3s 32ms/step - loss: 0.0057\n",
            "Epoch 16/100\n",
            "92/92 [==============================] - 3s 32ms/step - loss: 0.0060\n",
            "Epoch 17/100\n",
            "92/92 [==============================] - 3s 32ms/step - loss: 0.0057\n",
            "Epoch 18/100\n",
            "92/92 [==============================] - 3s 32ms/step - loss: 0.0058\n",
            "Epoch 19/100\n",
            "92/92 [==============================] - 3s 32ms/step - loss: 0.0057\n",
            "Epoch 20/100\n",
            "92/92 [==============================] - 3s 32ms/step - loss: 0.0056\n",
            "Epoch 21/100\n",
            "92/92 [==============================] - 3s 32ms/step - loss: 0.0056\n",
            "Epoch 22/100\n",
            "92/92 [==============================] - 3s 32ms/step - loss: 0.0056\n",
            "Epoch 23/100\n",
            "92/92 [==============================] - 3s 32ms/step - loss: 0.0057\n",
            "Epoch 24/100\n",
            "92/92 [==============================] - 3s 32ms/step - loss: 0.0056\n",
            "Epoch 25/100\n",
            "92/92 [==============================] - 3s 32ms/step - loss: 0.0056\n",
            "Epoch 26/100\n",
            "92/92 [==============================] - 3s 32ms/step - loss: 0.0056\n",
            "Epoch 27/100\n",
            "92/92 [==============================] - 3s 32ms/step - loss: 0.0056\n",
            "Epoch 28/100\n",
            "92/92 [==============================] - 3s 32ms/step - loss: 0.0057\n",
            "Epoch 29/100\n",
            "92/92 [==============================] - 3s 34ms/step - loss: 0.0055\n",
            "Epoch 30/100\n",
            "92/92 [==============================] - 3s 35ms/step - loss: 0.0058\n",
            "Epoch 31/100\n",
            "92/92 [==============================] - 3s 33ms/step - loss: 0.0055\n",
            "Epoch 32/100\n",
            "92/92 [==============================] - 3s 32ms/step - loss: 0.0055\n",
            "Epoch 33/100\n",
            "92/92 [==============================] - 3s 32ms/step - loss: 0.0055\n",
            "Epoch 34/100\n",
            "92/92 [==============================] - 3s 32ms/step - loss: 0.0057\n",
            "Epoch 35/100\n",
            "92/92 [==============================] - 3s 32ms/step - loss: 0.0055\n",
            "Epoch 36/100\n",
            "92/92 [==============================] - 3s 32ms/step - loss: 0.0055\n",
            "Epoch 37/100\n",
            "92/92 [==============================] - 3s 32ms/step - loss: 0.0055\n",
            "Epoch 38/100\n",
            "92/92 [==============================] - 3s 32ms/step - loss: 0.0055\n",
            "Epoch 39/100\n",
            "92/92 [==============================] - 3s 32ms/step - loss: 0.0055\n",
            "Epoch 40/100\n",
            "92/92 [==============================] - 3s 32ms/step - loss: 0.0055\n",
            "Epoch 41/100\n",
            "92/92 [==============================] - 3s 33ms/step - loss: 0.0055\n",
            "Epoch 42/100\n",
            "92/92 [==============================] - 3s 32ms/step - loss: 0.0055\n",
            "Epoch 43/100\n",
            "92/92 [==============================] - 3s 32ms/step - loss: 0.0056\n",
            "Epoch 44/100\n",
            "92/92 [==============================] - 3s 32ms/step - loss: 0.0054\n",
            "Epoch 45/100\n",
            "92/92 [==============================] - 3s 32ms/step - loss: 0.0056\n",
            "Epoch 46/100\n",
            "92/92 [==============================] - 3s 32ms/step - loss: 0.0055\n",
            "Epoch 47/100\n",
            "92/92 [==============================] - 3s 32ms/step - loss: 0.0054\n",
            "Epoch 48/100\n",
            "92/92 [==============================] - 3s 32ms/step - loss: 0.0057\n",
            "Epoch 49/100\n",
            "92/92 [==============================] - 3s 32ms/step - loss: 0.0057\n",
            "Epoch 50/100\n",
            "92/92 [==============================] - 3s 32ms/step - loss: 0.0055\n",
            "Epoch 51/100\n",
            "92/92 [==============================] - 3s 33ms/step - loss: 0.0055\n",
            "Epoch 52/100\n",
            "92/92 [==============================] - 3s 32ms/step - loss: 0.0055\n",
            "Epoch 53/100\n",
            "92/92 [==============================] - 3s 32ms/step - loss: 0.0055\n",
            "Epoch 54/100\n",
            "92/92 [==============================] - 3s 32ms/step - loss: 0.0056\n",
            "Epoch 55/100\n",
            "92/92 [==============================] - 3s 32ms/step - loss: 0.0056\n",
            "Epoch 56/100\n",
            "92/92 [==============================] - 3s 32ms/step - loss: 0.0055\n",
            "Epoch 57/100\n",
            "92/92 [==============================] - 3s 32ms/step - loss: 0.0056\n",
            "Epoch 58/100\n",
            "92/92 [==============================] - 3s 33ms/step - loss: 0.0055\n",
            "Epoch 59/100\n",
            "92/92 [==============================] - 3s 34ms/step - loss: 0.0055\n",
            "Epoch 60/100\n",
            "92/92 [==============================] - 3s 34ms/step - loss: 0.0055\n",
            "Epoch 61/100\n",
            "92/92 [==============================] - 3s 34ms/step - loss: 0.0055\n",
            "Epoch 62/100\n",
            "92/92 [==============================] - 3s 34ms/step - loss: 0.0055\n",
            "Epoch 63/100\n",
            "92/92 [==============================] - 3s 34ms/step - loss: 0.0057\n",
            "Epoch 64/100\n",
            "92/92 [==============================] - 3s 33ms/step - loss: 0.0055\n",
            "Epoch 65/100\n",
            "92/92 [==============================] - 3s 33ms/step - loss: 0.0055\n",
            "Epoch 66/100\n",
            "92/92 [==============================] - 3s 33ms/step - loss: 0.0055\n",
            "Epoch 67/100\n",
            "92/92 [==============================] - 3s 32ms/step - loss: 0.0055\n",
            "Epoch 68/100\n",
            "92/92 [==============================] - 3s 32ms/step - loss: 0.0055\n",
            "Epoch 69/100\n",
            "92/92 [==============================] - 3s 32ms/step - loss: 0.0055\n",
            "Epoch 70/100\n",
            "92/92 [==============================] - 3s 32ms/step - loss: 0.0055\n",
            "Epoch 71/100\n",
            "92/92 [==============================] - 3s 33ms/step - loss: 0.0055\n",
            "Epoch 72/100\n",
            "92/92 [==============================] - 3s 32ms/step - loss: 0.0054\n",
            "Epoch 73/100\n",
            "92/92 [==============================] - 3s 32ms/step - loss: 0.0054\n",
            "Epoch 74/100\n",
            "92/92 [==============================] - 3s 32ms/step - loss: 0.0054\n",
            "Epoch 75/100\n",
            "92/92 [==============================] - 3s 32ms/step - loss: 0.0055\n",
            "Epoch 76/100\n",
            "92/92 [==============================] - 3s 32ms/step - loss: 0.0053\n",
            "Epoch 77/100\n",
            "92/92 [==============================] - 3s 32ms/step - loss: 0.0055\n",
            "Epoch 78/100\n",
            "92/92 [==============================] - 3s 32ms/step - loss: 0.0054\n",
            "Epoch 79/100\n",
            "92/92 [==============================] - 3s 32ms/step - loss: 0.0055\n",
            "Epoch 80/100\n",
            "92/92 [==============================] - 3s 32ms/step - loss: 0.0055\n",
            "Epoch 81/100\n",
            "92/92 [==============================] - 3s 32ms/step - loss: 0.0055\n",
            "Epoch 82/100\n",
            "92/92 [==============================] - 3s 32ms/step - loss: 0.0055\n",
            "Epoch 83/100\n",
            "92/92 [==============================] - 3s 32ms/step - loss: 0.0055\n",
            "Epoch 84/100\n",
            "92/92 [==============================] - 3s 32ms/step - loss: 0.0054\n",
            "Epoch 85/100\n",
            "92/92 [==============================] - 3s 32ms/step - loss: 0.0055\n",
            "Epoch 86/100\n",
            "92/92 [==============================] - 3s 33ms/step - loss: 0.0054\n",
            "Epoch 87/100\n",
            "92/92 [==============================] - 3s 32ms/step - loss: 0.0054\n",
            "Epoch 88/100\n",
            "92/92 [==============================] - 3s 32ms/step - loss: 0.0053\n",
            "Epoch 89/100\n",
            "92/92 [==============================] - 3s 32ms/step - loss: 0.0054\n",
            "Epoch 90/100\n",
            "92/92 [==============================] - 3s 32ms/step - loss: 0.0054\n",
            "Epoch 91/100\n",
            "92/92 [==============================] - 3s 32ms/step - loss: 0.0054\n",
            "Epoch 92/100\n",
            "92/92 [==============================] - 3s 32ms/step - loss: 0.0054\n",
            "Epoch 93/100\n",
            "92/92 [==============================] - 3s 32ms/step - loss: 0.0055\n",
            "Epoch 94/100\n",
            "92/92 [==============================] - 3s 32ms/step - loss: 0.0054\n",
            "Epoch 95/100\n",
            "92/92 [==============================] - 3s 32ms/step - loss: 0.0055\n",
            "Epoch 96/100\n",
            "92/92 [==============================] - 3s 33ms/step - loss: 0.0053\n",
            "Epoch 97/100\n",
            "92/92 [==============================] - 3s 33ms/step - loss: 0.0054\n",
            "Epoch 98/100\n",
            "92/92 [==============================] - 3s 32ms/step - loss: 0.0054\n",
            "Epoch 99/100\n",
            "92/92 [==============================] - 3s 32ms/step - loss: 0.0053\n",
            "Epoch 100/100\n",
            "92/92 [==============================] - 3s 32ms/step - loss: 0.0054\n"
          ],
          "name": "stdout"
        },
        {
          "output_type": "execute_result",
          "data": {
            "text/plain": [
              "<tensorflow.python.keras.callbacks.History at 0x7fe556d2e780>"
            ]
          },
          "metadata": {
            "tags": []
          },
          "execution_count": 17
        }
      ]
    },
    {
      "cell_type": "code",
      "metadata": {
        "id": "8KwMc5VjXy29"
      },
      "source": [
        "tested_data = scaled_data[training_data_len-60:,:]\n",
        "x_test =[]\n",
        "y_test =dataset[training_data_len:,:]\n",
        "\n",
        "for i in range(60,len(tested_data)):\n",
        "  x_test.append(tested_data[i-60:i,0])\n",
        "  "
      ],
      "execution_count": null,
      "outputs": []
    },
    {
      "cell_type": "code",
      "metadata": {
        "id": "iX-fEM1_YoWJ",
        "colab": {
          "base_uri": "https://localhost:8080/"
        },
        "outputId": "7508f785-da97-4b14-afe3-6d7e8bbec7a3"
      },
      "source": [
        "x_test = np.array(x_test)\n",
        "x_test= np.reshape(x_test,(x_test.shape[0],x_test.shape[1],1))\n",
        "x_test.shape"
      ],
      "execution_count": null,
      "outputs": [
        {
          "output_type": "execute_result",
          "data": {
            "text/plain": [
              "(748, 60, 1)"
            ]
          },
          "metadata": {
            "tags": []
          },
          "execution_count": 19
        }
      ]
    },
    {
      "cell_type": "code",
      "metadata": {
        "id": "yHRUMlekZC3v",
        "colab": {
          "base_uri": "https://localhost:8080/",
          "height": 340
        },
        "outputId": "d6348728-a9b4-4b6e-e7da-fe6f05f1b9cf"
      },
      "source": [
        "predictions= model.predict(x_test)\n",
        "predictions= scaler.inverse_transform(predictions)"
      ],
      "execution_count": null,
      "outputs": [
        {
          "output_type": "error",
          "ename": "ValueError",
          "evalue": "ignored",
          "traceback": [
            "\u001b[0;31m---------------------------------------------------------------------------\u001b[0m",
            "\u001b[0;31mValueError\u001b[0m                                Traceback (most recent call last)",
            "\u001b[0;32m<ipython-input-20-c0dd11d2c8a5>\u001b[0m in \u001b[0;36m<module>\u001b[0;34m()\u001b[0m\n\u001b[1;32m      1\u001b[0m \u001b[0mpredictions\u001b[0m\u001b[0;34m=\u001b[0m \u001b[0mmodel\u001b[0m\u001b[0;34m.\u001b[0m\u001b[0mpredict\u001b[0m\u001b[0;34m(\u001b[0m\u001b[0mx_test\u001b[0m\u001b[0;34m)\u001b[0m\u001b[0;34m\u001b[0m\u001b[0;34m\u001b[0m\u001b[0m\n\u001b[0;32m----> 2\u001b[0;31m \u001b[0mpredictions\u001b[0m\u001b[0;34m=\u001b[0m \u001b[0mscaler\u001b[0m\u001b[0;34m.\u001b[0m\u001b[0minverse_transform\u001b[0m\u001b[0;34m(\u001b[0m\u001b[0mpredictions\u001b[0m\u001b[0;34m)\u001b[0m\u001b[0;34m\u001b[0m\u001b[0;34m\u001b[0m\u001b[0m\n\u001b[0m",
            "\u001b[0;32m/usr/local/lib/python3.6/dist-packages/sklearn/preprocessing/_data.py\u001b[0m in \u001b[0;36minverse_transform\u001b[0;34m(self, X)\u001b[0m\n\u001b[1;32m    432\u001b[0m \u001b[0;34m\u001b[0m\u001b[0m\n\u001b[1;32m    433\u001b[0m         X = check_array(X, copy=self.copy, dtype=FLOAT_DTYPES,\n\u001b[0;32m--> 434\u001b[0;31m                         force_all_finite=\"allow-nan\")\n\u001b[0m\u001b[1;32m    435\u001b[0m \u001b[0;34m\u001b[0m\u001b[0m\n\u001b[1;32m    436\u001b[0m         \u001b[0mX\u001b[0m \u001b[0;34m-=\u001b[0m \u001b[0mself\u001b[0m\u001b[0;34m.\u001b[0m\u001b[0mmin_\u001b[0m\u001b[0;34m\u001b[0m\u001b[0;34m\u001b[0m\u001b[0m\n",
            "\u001b[0;32m/usr/local/lib/python3.6/dist-packages/sklearn/utils/validation.py\u001b[0m in \u001b[0;36mcheck_array\u001b[0;34m(array, accept_sparse, accept_large_sparse, dtype, order, copy, force_all_finite, ensure_2d, allow_nd, ensure_min_samples, ensure_min_features, warn_on_dtype, estimator)\u001b[0m\n\u001b[1;32m    572\u001b[0m         \u001b[0;32mif\u001b[0m \u001b[0;32mnot\u001b[0m \u001b[0mallow_nd\u001b[0m \u001b[0;32mand\u001b[0m \u001b[0marray\u001b[0m\u001b[0;34m.\u001b[0m\u001b[0mndim\u001b[0m \u001b[0;34m>=\u001b[0m \u001b[0;36m3\u001b[0m\u001b[0;34m:\u001b[0m\u001b[0;34m\u001b[0m\u001b[0;34m\u001b[0m\u001b[0m\n\u001b[1;32m    573\u001b[0m             raise ValueError(\"Found array with dim %d. %s expected <= 2.\"\n\u001b[0;32m--> 574\u001b[0;31m                              % (array.ndim, estimator_name))\n\u001b[0m\u001b[1;32m    575\u001b[0m \u001b[0;34m\u001b[0m\u001b[0m\n\u001b[1;32m    576\u001b[0m         \u001b[0;32mif\u001b[0m \u001b[0mforce_all_finite\u001b[0m\u001b[0;34m:\u001b[0m\u001b[0;34m\u001b[0m\u001b[0;34m\u001b[0m\u001b[0m\n",
            "\u001b[0;31mValueError\u001b[0m: Found array with dim 3. Estimator expected <= 2."
          ]
        }
      ]
    },
    {
      "cell_type": "code",
      "metadata": {
        "id": "7jhkVpkoZYsJ"
      },
      "source": [
        "from sklearn. metrics import mean_squared_error\n",
        "mse = mean_squared_error(y_test, predictions)\n",
        "rmse = math. sqrt(mse)\n",
        "print(rmse)\n",
        "rmse_1 = np.sqrt(np.mean(predictions-y_test)**2)\n",
        "print(rmse_1)"
      ],
      "execution_count": null,
      "outputs": []
    },
    {
      "cell_type": "code",
      "metadata": {
        "id": "fUg9c-n3ZrCA"
      },
      "source": [
        "train = data[:training_data_len]\n",
        "valid = data[training_data_len:]\n",
        "valid['predictions'] = predictions\n",
        "plt.figure(figsize=(16,8))\n",
        "plt.title('Model')\n",
        "plt.plot(train['Close'])\n",
        "plt.xlabel('Date',fontsize=18)\n",
        "plt.ylabel('close data USD',fontsize=18)\n",
        "plt.plot(valid[['Close','predictions']])\n",
        "plt.legend(['Train','Val','predictions'],loc='lower right')\n",
        "plt.show()"
      ],
      "execution_count": null,
      "outputs": []
    },
    {
      "cell_type": "code",
      "metadata": {
        "id": "eVtGNsehalg3"
      },
      "source": [
        "valid"
      ],
      "execution_count": null,
      "outputs": []
    },
    {
      "cell_type": "code",
      "metadata": {
        "id": "mgYUsS9hbRBy"
      },
      "source": [
        "test = web.DataReader('AAPL',data_source='yahoo',start='2012-01-01',end='2019-12-23')\n",
        "new = test.filter(['Close'])\n",
        "last_60_days= new[-60:].values\n",
        "last_60_days_Scaled = scaler.transform(last_60_days)\n",
        "x_test=[]\n",
        "x_test.append(last_60_days_Scaled)\n",
        "x_test = np.array(x_test)\n",
        "x_test = np.reshape(x_test,(x_test.shape[0],x_test.shape[1],1))\n",
        "pred_price = model.predict(x_test)\n",
        "pred_price = scaler.inverse_transform(pred_price)\n",
        "print(pred_price)   \n"
      ],
      "execution_count": null,
      "outputs": []
    },
    {
      "cell_type": "code",
      "metadata": {
        "id": "P8iQWzbBc1WT"
      },
      "source": [
        "test_1 = web.DataReader('AAPL',data_source='yahoo',start='2019-12-18',end='2019-12-25')\n",
        "print(test_1['Close'])"
      ],
      "execution_count": null,
      "outputs": []
    },
    {
      "cell_type": "code",
      "metadata": {
        "id": "Tt-H7rjGedLp"
      },
      "source": [
        ""
      ],
      "execution_count": null,
      "outputs": []
    }
  ]
}