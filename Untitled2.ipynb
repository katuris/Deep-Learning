{
 "cells": [
  {
   "cell_type": "code",
   "execution_count": 1,
   "metadata": {},
   "outputs": [],
   "source": [
    "from scipy.io import wavfile\n",
    "from scipy import signal\n",
    "import matplotlib.pyplot as plt\n",
    "import os\n",
    "import shutil\n",
    "import numpy as np\n",
    "import seaborn as sns\n",
    "import IPython.display as ipd\n",
    "import librosa\n",
    "import librosa.display\n",
    "import pandas as pd\n",
    "\n",
    "%matplotlib inline"
   ]
  },
  {
   "cell_type": "code",
   "execution_count": 2,
   "metadata": {},
   "outputs": [],
   "source": [
    "train_path = './train/audio/'\n",
    "classes = os.listdir(train_path)"
   ]
  },
  {
   "cell_type": "code",
   "execution_count": 3,
   "metadata": {},
   "outputs": [],
   "source": [
    "def class_counts(path, classes):\n",
    "    total_count = 0\n",
    "    d = {}\n",
    "    for c in classes:\n",
    "        i = len(os.listdir(path + c))\n",
    "        print(c, ':', i)\n",
    "        d[c] = i\n",
    "        total_count += i\n",
    "    print('\\n')\n",
    "    print(f'total counts: {total_count}')\n",
    "    return d"
   ]
  },
  {
   "cell_type": "code",
   "execution_count": 4,
   "metadata": {
    "scrolled": true
   },
   "outputs": [
    {
     "name": "stdout",
     "output_type": "stream",
     "text": [
      "bed : 1713\n",
      "bird : 1731\n",
      "cat : 1733\n",
      "dog : 1746\n",
      "down : 2359\n",
      "eight : 2352\n",
      "five : 2357\n",
      "four : 2372\n",
      "go : 2372\n",
      "happy : 1742\n",
      "house : 1750\n",
      "left : 2353\n",
      "marvin : 1746\n",
      "nine : 2364\n",
      "no : 2375\n",
      "off : 2357\n",
      "on : 2367\n",
      "one : 2370\n",
      "right : 2367\n",
      "seven : 2377\n",
      "sheila : 1734\n",
      "six : 2369\n",
      "stop : 2380\n",
      "three : 2356\n",
      "tree : 1733\n",
      "two : 2373\n",
      "up : 2375\n",
      "wow : 1745\n",
      "yes : 2377\n",
      "zero : 2376\n",
      "_background_noise_ : 7\n",
      "\n",
      "\n",
      "total counts: 64728\n"
     ]
    }
   ],
   "source": [
    "full_train_path = './train/audio/'\n",
    "class_dict = class_counts(full_train_path, classes)"
   ]
  },
  {
   "cell_type": "code",
   "execution_count": 5,
   "metadata": {},
   "outputs": [
    {
     "name": "stdout",
     "output_type": "stream",
     "text": [
      "Number of labels: 31\n",
      "<class 'pandas.core.frame.DataFrame'>\n",
      "RangeIndex: 64721 entries, 0 to 64720\n",
      "Data columns (total 2 columns):\n",
      "file     64721 non-null object\n",
      "label    64721 non-null object\n",
      "dtypes: object(2)\n",
      "memory usage: 1011.3+ KB\n",
      "['bed' 'bird' 'cat' 'dog' 'down' 'eight' 'five' 'four' 'go' 'happy'\n",
      " 'house' 'left' 'marvin' 'nine' 'no' 'off' 'on' 'one' 'right' 'seven'\n",
      " 'sheila' 'six' 'stop' 'three' 'tree' 'two' 'up' 'wow' 'yes' 'zero']\n"
     ]
    },
    {
     "data": {
      "image/png": "[encoded data removed]",
      "text/plain": [
       "<Figure size 1152x576 with 1 Axes>"
      ]
     },
     "metadata": {
      "needs_background": "light"
     },
     "output_type": "display_data"
    }
   ],
   "source": [
    "train_audio_path = \"./train/audio\"\n",
    "train_labels = os.listdir(train_audio_path)\n",
    "print(f'Number of labels: {len(train_labels)}')\n",
    "\n",
    "wavs = []\n",
    "labels = []\n",
    "for label in train_labels:\n",
    "    if label == '_background_noise_':\n",
    "        continue\n",
    "    files = os.listdir(train_audio_path + '/' + label)\n",
    "    for f in files:\n",
    "        if not f.endswith('wav'):\n",
    "            continue\n",
    "        wavs.append(f)\n",
    "        labels.append(label)\n",
    "\n",
    "train = pd.DataFrame({'file':wavs,'label':labels})\n",
    "train.info()\n",
    "fig, ax = plt.subplots(figsize=(16, 8))\n",
    "sns.countplot(ax=ax, x=\"label\", data=train)\n",
    "print(train.label.unique())"
   ]
  },
  {
   "cell_type": "code",
   "execution_count": 6,
   "metadata": {},
   "outputs": [
    {
     "ename": "KeyboardInterrupt",
     "evalue": "",
     "output_type": "error",
     "traceback": [
      "\u001b[1;31m---------------------------------------------------------------------------\u001b[0m",
      "\u001b[1;31mKeyboardInterrupt\u001b[0m                         Traceback (most recent call last)",
      "\u001b[1;32m<ipython-input-6-4b8db6e0017f>\u001b[0m in \u001b[0;36m<module>\u001b[1;34m()\u001b[0m\n\u001b[0;32m      3\u001b[0m     \u001b[0mwaves\u001b[0m \u001b[1;33m=\u001b[0m \u001b[1;33m[\u001b[0m\u001b[0mf\u001b[0m \u001b[1;32mfor\u001b[0m \u001b[0mf\u001b[0m \u001b[1;32min\u001b[0m \u001b[0mos\u001b[0m\u001b[1;33m.\u001b[0m\u001b[0mlistdir\u001b[0m\u001b[1;33m(\u001b[0m\u001b[0mtrain_audio_path\u001b[0m \u001b[1;33m+\u001b[0m \u001b[1;34m'/'\u001b[0m\u001b[1;33m+\u001b[0m \u001b[0mlabel\u001b[0m\u001b[1;33m)\u001b[0m \u001b[1;32mif\u001b[0m \u001b[0mf\u001b[0m\u001b[1;33m.\u001b[0m\u001b[0mendswith\u001b[0m\u001b[1;33m(\u001b[0m\u001b[1;34m'.wav'\u001b[0m\u001b[1;33m)\u001b[0m\u001b[1;33m]\u001b[0m\u001b[1;33m\u001b[0m\u001b[1;33m\u001b[0m\u001b[0m\n\u001b[0;32m      4\u001b[0m     \u001b[1;32mfor\u001b[0m \u001b[0mwav\u001b[0m \u001b[1;32min\u001b[0m \u001b[0mwaves\u001b[0m\u001b[1;33m:\u001b[0m\u001b[1;33m\u001b[0m\u001b[1;33m\u001b[0m\u001b[0m\n\u001b[1;32m----> 5\u001b[1;33m         \u001b[0msample_rate\u001b[0m\u001b[1;33m,\u001b[0m \u001b[0msamples\u001b[0m \u001b[1;33m=\u001b[0m \u001b[0mwavfile\u001b[0m\u001b[1;33m.\u001b[0m\u001b[0mread\u001b[0m\u001b[1;33m(\u001b[0m\u001b[0mtrain_audio_path\u001b[0m \u001b[1;33m+\u001b[0m \u001b[1;34m'/'\u001b[0m \u001b[1;33m+\u001b[0m \u001b[0mlabel\u001b[0m \u001b[1;33m+\u001b[0m \u001b[1;34m'/'\u001b[0m \u001b[1;33m+\u001b[0m \u001b[0mwav\u001b[0m\u001b[1;33m)\u001b[0m\u001b[1;33m\u001b[0m\u001b[1;33m\u001b[0m\u001b[0m\n\u001b[0m\u001b[0;32m      6\u001b[0m         \u001b[0mduration_of_recordings\u001b[0m\u001b[1;33m.\u001b[0m\u001b[0mappend\u001b[0m\u001b[1;33m(\u001b[0m\u001b[0mfloat\u001b[0m\u001b[1;33m(\u001b[0m\u001b[0mlen\u001b[0m\u001b[1;33m(\u001b[0m\u001b[0msamples\u001b[0m\u001b[1;33m)\u001b[0m\u001b[1;33m/\u001b[0m\u001b[0msample_rate\u001b[0m\u001b[1;33m)\u001b[0m\u001b[1;33m)\u001b[0m\u001b[1;33m\u001b[0m\u001b[1;33m\u001b[0m\u001b[0m\n\u001b[0;32m      7\u001b[0m \u001b[1;33m\u001b[0m\u001b[0m\n",
      "\u001b[1;32mC:\\Users\\sahithi katuri\\Anaconda3\\lib\\site-packages\\scipy\\io\\wavfile.py\u001b[0m in \u001b[0;36mread\u001b[1;34m(filename, mmap)\u001b[0m\n\u001b[0;32m    262\u001b[0m         \u001b[0mmmap\u001b[0m \u001b[1;33m=\u001b[0m \u001b[1;32mFalse\u001b[0m\u001b[1;33m\u001b[0m\u001b[1;33m\u001b[0m\u001b[0m\n\u001b[0;32m    263\u001b[0m     \u001b[1;32melse\u001b[0m\u001b[1;33m:\u001b[0m\u001b[1;33m\u001b[0m\u001b[1;33m\u001b[0m\u001b[0m\n\u001b[1;32m--> 264\u001b[1;33m         \u001b[0mfid\u001b[0m \u001b[1;33m=\u001b[0m \u001b[0mopen\u001b[0m\u001b[1;33m(\u001b[0m\u001b[0mfilename\u001b[0m\u001b[1;33m,\u001b[0m \u001b[1;34m'rb'\u001b[0m\u001b[1;33m)\u001b[0m\u001b[1;33m\u001b[0m\u001b[1;33m\u001b[0m\u001b[0m\n\u001b[0m\u001b[0;32m    265\u001b[0m \u001b[1;33m\u001b[0m\u001b[0m\n\u001b[0;32m    266\u001b[0m     \u001b[1;32mtry\u001b[0m\u001b[1;33m:\u001b[0m\u001b[1;33m\u001b[0m\u001b[1;33m\u001b[0m\u001b[0m\n",
      "\u001b[1;31mKeyboardInterrupt\u001b[0m: "
     ]
    }
   ],
   "source": [
    "duration_of_recordings=[]\n",
    "for label in labels:\n",
    "    waves = [f for f in os.listdir(train_audio_path + '/'+ label) if f.endswith('.wav')]\n",
    "    for wav in waves:\n",
    "        sample_rate, samples = wavfile.read(train_audio_path + '/' + label + '/' + wav)\n",
    "        duration_of_recordings.append(float(len(samples)/sample_rate))\n",
    "    \n",
    "plt.hist(np.array(duration_of_recordings))"
   ]
  },
  {
   "cell_type": "code",
   "execution_count": 7,
   "metadata": {},
   "outputs": [],
   "source": [
    "labels = ['yes', 'no', 'up', 'down', 'left', 'right', 'on', 'off', 'stop', 'go', '_background_noise_']"
   ]
  },
  {
   "cell_type": "code",
   "execution_count": 8,
   "metadata": {},
   "outputs": [
    {
     "name": "stdout",
     "output_type": "stream",
     "text": [
      "yes\n",
      "no\n",
      "up\n",
      "down\n",
      "left\n",
      "right\n",
      "on\n",
      "off\n",
      "stop\n",
      "go\n",
      "_background_noise_\n"
     ]
    }
   ],
   "source": [
    "all_wave = []\n",
    "all_label = []\n",
    "for label in labels:\n",
    "    print(label)\n",
    "    waves = [f for f in os.listdir(train_audio_path + '/'+ label) if f.endswith('.wav')]\n",
    "    for wav in waves:\n",
    "        samples, sample_rate = librosa.load(train_audio_path + '/' + label + '/' + wav, sr = 16000)\n",
    "        samples = librosa.resample(samples, sample_rate, 8000)\n",
    "        if(len(samples)== 8000) : \n",
    "            all_wave.append(samples)\n",
    "            all_label.append(label)"
   ]
  },
  {
   "cell_type": "code",
   "execution_count": null,
   "metadata": {},
   "outputs": [],
   "source": []
  },
  {
   "cell_type": "code",
   "execution_count": null,
   "metadata": {},
   "outputs": [],
   "source": [
    "def moveToUnknown(path):\n",
    "    dirs = os.listdir(path)\n",
    "    for c in dirs:\n",
    "        # moving if not in labels list\n",
    "        if c not in labels:\n",
    "            fnames = os.listdir(path + c)\n",
    "            for fname in fnames:\n",
    "                src = path + c + '/' + fname\n",
    "                dst = path + 'unknown' + '/' + c + '_' + fname\n",
    "                shutil.move(src, dst)"
   ]
  },
  {
   "cell_type": "code",
   "execution_count": null,
   "metadata": {},
   "outputs": [],
   "source": [
    "moveToUnknown(train_path)\n",
    "train_counts = class_counts(train_path, classes + ['unknown']) "
   ]
  },
  {
   "cell_type": "code",
   "execution_count": null,
   "metadata": {},
   "outputs": [],
   "source": [
    "os.makedirs(train_path+'silence', exist_ok=True)"
   ]
  },
  {
   "cell_type": "code",
   "execution_count": null,
   "metadata": {},
   "outputs": [],
   "source": [
    "background_path = './train/audio/_background_noise_/'"
   ]
  },
  {
   "cell_type": "code",
   "execution_count": null,
   "metadata": {},
   "outputs": [],
   "source": [
    "background_fnames = [f for f in os.listdir(background_path) if 'wav' in f]"
   ]
  },
  {
   "cell_type": "code",
   "execution_count": null,
   "metadata": {},
   "outputs": [],
   "source": [
    "sample_rate = 8000\n",
    "n_train = 2420\n",
    "\n",
    "for back_fname in background_fnames:\n",
    "    sample_rate, samples = wavfile.read(background_path + back_fname)\n",
    "    # split into train and val 80-20\n",
    "    train_background_arr = samples[:int(len(samples)*0.8)]\n",
    "    val_background_arr = samples[int(len(samples)*0.8):]\n",
    "    train_len, val_len = train_background_arr.shape[0], val_background_arr.shape[0]\n",
    "    \n",
    "    #create clips for training n_train times\n",
    "    for i in range(n_train):\n",
    "        start_idx = np.random.choice(range(train_len - sample_rate))\n",
    "        seq_idx = range(start_idx, start_idx+sample_rate)\n",
    "        new_clip = train_background_arr[seq_idx]\n",
    "        wavfile.write('./train/audio/silence/' + f'_{i}' + back_fname  ,sample_rate, new_clip)"
   ]
  },
  {
   "cell_type": "code",
   "execution_count": null,
   "metadata": {},
   "outputs": [],
   "source": [
    "train_path = './train/audio/'\n",
    "classes = os.listdir(train_path)\n",
    "train_counts=class_counts(train_path, classes)"
   ]
  },
  {
   "cell_type": "code",
   "execution_count": null,
   "metadata": {},
   "outputs": [],
   "source": []
  },
  {
   "cell_type": "code",
   "execution_count": null,
   "metadata": {},
   "outputs": [],
   "source": []
  },
  {
   "cell_type": "code",
   "execution_count": null,
   "metadata": {},
   "outputs": [],
   "source": []
  }
 ],
 "metadata": {
  "kernelspec": {
   "display_name": "Python 3",
   "language": "python",
   "name": "python3"
  },
  "language_info": {
   "codemirror_mode": {
    "name": "ipython",
    "version": 3
   },
   "file_extension": ".py",
   "mimetype": "text/x-python",
   "name": "python",
   "nbconvert_exporter": "python",
   "pygments_lexer": "ipython3",
   "version": "3.7.3"
  }
 },
 "nbformat": 4,
 "nbformat_minor": 2
}
